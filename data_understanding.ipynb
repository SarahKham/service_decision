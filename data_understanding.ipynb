{
 "cells": [
  {
   "cell_type": "code",
   "execution_count": 1,
   "metadata": {},
   "outputs": [
    {
     "data": {
      "text/html": [
       "<div>\n",
       "<style scoped>\n",
       "    .dataframe tbody tr th:only-of-type {\n",
       "        vertical-align: middle;\n",
       "    }\n",
       "\n",
       "    .dataframe tbody tr th {\n",
       "        vertical-align: top;\n",
       "    }\n",
       "\n",
       "    .dataframe thead th {\n",
       "        text-align: right;\n",
       "    }\n",
       "</style>\n",
       "<table border=\"1\" class=\"dataframe\">\n",
       "  <thead>\n",
       "    <tr style=\"text-align: right;\">\n",
       "      <th></th>\n",
       "      <th>#stream</th>\n",
       "      <th>isp</th>\n",
       "      <th>browser</th>\n",
       "      <th>connected</th>\n",
       "      <th>p2p</th>\n",
       "      <th>cdn</th>\n",
       "    </tr>\n",
       "  </thead>\n",
       "  <tbody>\n",
       "    <tr>\n",
       "      <th>0</th>\n",
       "      <td>1</td>\n",
       "      <td>Fro</td>\n",
       "      <td>Iron</td>\n",
       "      <td>True</td>\n",
       "      <td>195910.840977</td>\n",
       "      <td>109025.960619</td>\n",
       "    </tr>\n",
       "    <tr>\n",
       "      <th>1</th>\n",
       "      <td>1</td>\n",
       "      <td>Fro</td>\n",
       "      <td>EarthWolf</td>\n",
       "      <td>True</td>\n",
       "      <td>186711.522041</td>\n",
       "      <td>113744.856814</td>\n",
       "    </tr>\n",
       "    <tr>\n",
       "      <th>2</th>\n",
       "      <td>1</td>\n",
       "      <td>Arange</td>\n",
       "      <td>Iron</td>\n",
       "      <td>True</td>\n",
       "      <td>189428.293434</td>\n",
       "      <td>115944.246844</td>\n",
       "    </tr>\n",
       "    <tr>\n",
       "      <th>3</th>\n",
       "      <td>1</td>\n",
       "      <td>Arange</td>\n",
       "      <td>Iron</td>\n",
       "      <td>True</td>\n",
       "      <td>0.000000</td>\n",
       "      <td>307577.191067</td>\n",
       "    </tr>\n",
       "    <tr>\n",
       "      <th>4</th>\n",
       "      <td>1</td>\n",
       "      <td>BTP</td>\n",
       "      <td>EarthWolf</td>\n",
       "      <td>True</td>\n",
       "      <td>207246.640473</td>\n",
       "      <td>107010.608093</td>\n",
       "    </tr>\n",
       "  </tbody>\n",
       "</table>\n",
       "</div>"
      ],
      "text/plain": [
       "   #stream     isp    browser  connected            p2p            cdn\n",
       "0        1     Fro       Iron       True  195910.840977  109025.960619\n",
       "1        1     Fro  EarthWolf       True  186711.522041  113744.856814\n",
       "2        1  Arange       Iron       True  189428.293434  115944.246844\n",
       "3        1  Arange       Iron       True       0.000000  307577.191067\n",
       "4        1     BTP  EarthWolf       True  207246.640473  107010.608093"
      ]
     },
     "execution_count": 1,
     "metadata": {},
     "output_type": "execute_result"
    }
   ],
   "source": [
    "import pandas as pd\n",
    "import numpy as np\n",
    "from dplython import (DplyFrame, X, diamonds, select, sift, sample_n,\n",
    "    sample_frac, head, arrange, mutate, group_by, summarize, DelayFunction)\n",
    "\n",
    "input_file = \"C:/Users/LENOVO/Desktop/project data/data.csv\"\n",
    "df = pd.read_csv(input_file, header = 0)\n",
    "df.head()"
   ]
  },
  {
   "cell_type": "code",
   "execution_count": 3,
   "metadata": {},
   "outputs": [
    {
     "name": "stdout",
     "output_type": "stream",
     "text": [
      "             #stream           p2p           cdn\n",
      "count  534954.000000  5.349540e+05  5.349530e+05\n",
      "mean        4.354741  3.540061e+06  1.532365e+07\n",
      "std         2.576618  1.243739e+07  3.328645e+07\n",
      "min         1.000000  0.000000e+00  2.851538e+03\n",
      "25%         2.000000  0.000000e+00  7.726825e+04\n",
      "50%         4.000000  1.247840e+05  1.901855e+05\n",
      "75%         7.000000  1.941179e+05  2.071052e+05\n",
      "max         9.000000  5.249998e+07  1.049986e+08\n"
     ]
    }
   ],
   "source": [
    "summary = df.describe()\n",
    "print(summary)"
   ]
  },
  {
   "cell_type": "code",
   "execution_count": 20,
   "metadata": {},
   "outputs": [
    {
     "name": "stdout",
     "output_type": "stream",
     "text": [
      "the number of downloads of p2p is big than cdn\n"
     ]
    }
   ],
   "source": [
    "def compare(a,b):\n",
    "    if a < b:\n",
    "     print(\"the number of downloads of cdn is big than p2p\")\n",
    "    else:\n",
    "     print(\"the number of downloads of p2p is big than cdn\")\n",
    "\n",
    "compare(5.349540e+05,5.349530e+05)\n"
   ]
  },
  {
   "cell_type": "code",
   "execution_count": 5,
   "metadata": {},
   "outputs": [
    {
     "name": "stdout",
     "output_type": "stream",
     "text": [
      "        stream            isp    browser  connected            p2p  \\\n",
      "0            1            Fro       Iron       True  195910.840977   \n",
      "1            1            Fro  EarthWolf       True  186711.522041   \n",
      "2            1         Arange       Iron       True  189428.293434   \n",
      "3            1         Arange       Iron       True       0.000000   \n",
      "4            1            BTP  EarthWolf       True  207246.640473   \n",
      "5            1            Fro  EarthWolf       True  193545.419945   \n",
      "6            1            Fro  EarthWolf       True  214701.657705   \n",
      "7            1            Fro  EarthWolf       True  202609.284270   \n",
      "8            1         Arange  EarthWolf       True  217679.617147   \n",
      "9            1            Fro  EarthWolf       True  198266.115340   \n",
      "10           1            Fro  EarthWolf       True  199248.784001   \n",
      "11           1         Arange       Iron       True  189400.980615   \n",
      "12           1            Fro       Iron       True  188826.012957   \n",
      "13           1         Arange  EarthWolf       True  182409.402474   \n",
      "14           1         Arange       Iron       True  187866.479782   \n",
      "15           1         Arange  EarthWolf       True  178608.703633   \n",
      "16           1            Fro       Iron      False       0.000000   \n",
      "17           1            BTP  EarthWolf       True  195500.120448   \n",
      "18           1            BTP       Iron       True  188295.455920   \n",
      "19           1            Fro  EarthWolf       True  203745.117391   \n",
      "20           1         Arange  EarthWolf       True  187339.162635   \n",
      "21           1            Fro       Iron       True  183222.636326   \n",
      "22           1         Arange       Iron       True       0.000000   \n",
      "23           1         Arange  EarthWolf       True  196542.833967   \n",
      "24           1         Arange       Iron       True  198051.148680   \n",
      "25           1         Arange  EarthWolf       True  186703.468760   \n",
      "26           1            Fro       Iron       True  174043.263529   \n",
      "27           1            BTP  EarthWolf       True  210565.258752   \n",
      "28           1         Arange  EarthWolf       True  192946.366313   \n",
      "29           1         Arange  EarthWolf       True  184465.859960   \n",
      "...        ...            ...        ...        ...            ...   \n",
      "534924       9           Olga  EarthWolf       True    6437.497850   \n",
      "534925       9           Olga  EarthWolf       True    6657.050428   \n",
      "534926       9           Olga      Swamp       True    5991.315745   \n",
      "534927       9           Olga       Iron       True       0.000000   \n",
      "534928       9           Olga       Iron       True    5884.276934   \n",
      "534929       9           Olga  EarthWolf       True    6233.382807   \n",
      "534930       9  Datch Telecam      Swamp      False       0.000000   \n",
      "534931       9           Olga  EarthWolf       True    6938.990909   \n",
      "534932       9           Olga  EarthWolf       True    7081.489866   \n",
      "534933       9  Datch Telecam      Swamp       True    5836.274819   \n",
      "534934       9           Olga       Iron       True    6572.936401   \n",
      "534935       9         Arange  EarthWolf       True    6966.264301   \n",
      "534936       9            BTP       Iron       True    6930.219343   \n",
      "534937       9            BTP  EarthWolf       True    6452.966466   \n",
      "534938       9           Olga  EarthWolf       True    6517.354942   \n",
      "534939       9            BTP  EarthWolf       True    6131.401131   \n",
      "534940       9           Olga       Iron       True    6109.708867   \n",
      "534941       9         Arange  EarthWolf       True    6056.142971   \n",
      "534942       9         Arange      Swamp       True       0.000000   \n",
      "534943       9            BTP      Swamp       True       0.000000   \n",
      "534944       9         Arange  EarthWolf       True    6631.356081   \n",
      "534945       9            BTP  EarthWolf       True    5867.186664   \n",
      "534946       9           Olga  EarthWolf       True    6343.658277   \n",
      "534947       9            BTP      Swamp       True    6450.140788   \n",
      "534948       9  Datch Telecam  EarthWolf      False       0.000000   \n",
      "534949       9           Olga      Swamp       True       0.000000   \n",
      "534950       9            Fro       Iron       True    6754.833418   \n",
      "534951       9            Fro      Swamp       True    6577.227866   \n",
      "534952       9           Olga  EarthWolf       True    6896.556735   \n",
      "534953       9            BTP  EarthWolf       True    6100.582815   \n",
      "\n",
      "                  cdn  \n",
      "0       109025.960619  \n",
      "1       113744.856814  \n",
      "2       115944.246844  \n",
      "3       307577.191067  \n",
      "4       107010.608093  \n",
      "5       107779.247245  \n",
      "6        96714.635977  \n",
      "7        89636.168386  \n",
      "8        94230.141580  \n",
      "9        97172.503568  \n",
      "10       89670.749510  \n",
      "11      114280.868906  \n",
      "12      104613.895858  \n",
      "13      102606.011991  \n",
      "14       97218.811453  \n",
      "15      107179.250886  \n",
      "16      305815.144096  \n",
      "17      112094.717884  \n",
      "18       97460.362874  \n",
      "19       96003.104493  \n",
      "20      119855.610796  \n",
      "21      106566.891317  \n",
      "22      300734.992786  \n",
      "23      113250.789802  \n",
      "24       92009.241370  \n",
      "25      121719.153777  \n",
      "26      111602.749971  \n",
      "27       94589.614435  \n",
      "28      111404.799667  \n",
      "29      119309.238849  \n",
      "...               ...  \n",
      "534924    3453.338538  \n",
      "534925    3663.103146  \n",
      "534926    3573.887437  \n",
      "534927    9876.594002  \n",
      "534928    3827.869693  \n",
      "534929    3766.458816  \n",
      "534930    9834.633006  \n",
      "534931    3166.757587  \n",
      "534932    3127.430819  \n",
      "534933    3687.597888  \n",
      "534934    3376.905440  \n",
      "534935    3494.188847  \n",
      "534936    3384.092695  \n",
      "534937    3897.064343  \n",
      "534938    2983.765418  \n",
      "534939    3453.621150  \n",
      "534940    3896.742391  \n",
      "534941    3499.102480  \n",
      "534942   10188.592000  \n",
      "534943   10402.972075  \n",
      "534944    2902.112453  \n",
      "534945    3723.350309  \n",
      "534946    3296.134306  \n",
      "534947    3691.384881  \n",
      "534948    9796.931076  \n",
      "534949    9553.909836  \n",
      "534950    2968.549831  \n",
      "534951    3448.103579  \n",
      "534952    3304.340942  \n",
      "534953            NaN  \n",
      "\n",
      "[534954 rows x 6 columns]\n"
     ]
    }
   ],
   "source": [
    "df1 = DplyFrame(df)\n",
    "df1 >> select(X.isp, X.browser, X.connected, X.p2p)\n",
    "print(df1)\n",
    "df.rename(columns={'#stream': 'stream'}, inplace=True)"
   ]
  },
  {
   "cell_type": "code",
   "execution_count": 7,
   "metadata": {},
   "outputs": [
    {
     "data": {
      "text/html": [
       "<div>\n",
       "<style scoped>\n",
       "    .dataframe tbody tr th:only-of-type {\n",
       "        vertical-align: middle;\n",
       "    }\n",
       "\n",
       "    .dataframe tbody tr th {\n",
       "        vertical-align: top;\n",
       "    }\n",
       "\n",
       "    .dataframe thead th {\n",
       "        text-align: right;\n",
       "    }\n",
       "</style>\n",
       "<table border=\"1\" class=\"dataframe\">\n",
       "  <thead>\n",
       "    <tr style=\"text-align: right;\">\n",
       "      <th>isp</th>\n",
       "      <th>Arange</th>\n",
       "      <th>BTP</th>\n",
       "      <th>Datch Telecam</th>\n",
       "      <th>Fro</th>\n",
       "      <th>Olga</th>\n",
       "    </tr>\n",
       "    <tr>\n",
       "      <th>stream</th>\n",
       "      <th></th>\n",
       "      <th></th>\n",
       "      <th></th>\n",
       "      <th></th>\n",
       "      <th></th>\n",
       "    </tr>\n",
       "  </thead>\n",
       "  <tbody>\n",
       "    <tr>\n",
       "      <th>1</th>\n",
       "      <td>177086.762849</td>\n",
       "      <td>1.788910e+05</td>\n",
       "      <td>38216.914804</td>\n",
       "      <td>1.699926e+05</td>\n",
       "      <td>25987.584611</td>\n",
       "    </tr>\n",
       "    <tr>\n",
       "      <th>2</th>\n",
       "      <td>115386.469353</td>\n",
       "      <td>1.155887e+05</td>\n",
       "      <td>25189.391315</td>\n",
       "      <td>1.098717e+05</td>\n",
       "      <td>25603.269906</td>\n",
       "    </tr>\n",
       "    <tr>\n",
       "      <th>3</th>\n",
       "      <td>12196.422980</td>\n",
       "      <td>1.208289e+04</td>\n",
       "      <td>2787.211731</td>\n",
       "      <td>1.186080e+04</td>\n",
       "      <td>2282.017329</td>\n",
       "    </tr>\n",
       "    <tr>\n",
       "      <th>4</th>\n",
       "      <td>897529.163638</td>\n",
       "      <td>4.543928e+07</td>\n",
       "      <td>406774.540440</td>\n",
       "      <td>1.724469e+06</td>\n",
       "      <td>25437.241381</td>\n",
       "    </tr>\n",
       "    <tr>\n",
       "      <th>5</th>\n",
       "      <td>109373.894429</td>\n",
       "      <td>1.089931e+05</td>\n",
       "      <td>21830.052482</td>\n",
       "      <td>1.048301e+05</td>\n",
       "      <td>23426.218209</td>\n",
       "    </tr>\n",
       "  </tbody>\n",
       "</table>\n",
       "</div>"
      ],
      "text/plain": [
       "isp            Arange           BTP  Datch Telecam           Fro          Olga\n",
       "stream                                                                        \n",
       "1       177086.762849  1.788910e+05   38216.914804  1.699926e+05  25987.584611\n",
       "2       115386.469353  1.155887e+05   25189.391315  1.098717e+05  25603.269906\n",
       "3        12196.422980  1.208289e+04    2787.211731  1.186080e+04   2282.017329\n",
       "4       897529.163638  4.543928e+07  406774.540440  1.724469e+06  25437.241381\n",
       "5       109373.894429  1.089931e+05   21830.052482  1.048301e+05  23426.218209"
      ]
     },
     "execution_count": 7,
     "metadata": {},
     "output_type": "execute_result"
    }
   ],
   "source": [
    "p2p_isp = df.pivot_table(index=['stream'],columns=['isp'],values='p2p')\n",
    "p2p_isp.head()"
   ]
  },
  {
   "cell_type": "code",
   "execution_count": 9,
   "metadata": {},
   "outputs": [
    {
     "name": "stdout",
     "output_type": "stream",
     "text": [
      "isp           Arange           BTP  Datch Telecam           Fro          Olga\n",
      "count       9.000000  9.000000e+00       9.000000  9.000000e+00      9.000000\n",
      "mean   265579.685054  1.013064e+07  101171.939111  4.448744e+05  18628.361790\n",
      "std    363522.919377  1.993376e+07  166274.377963  7.242223e+05   9989.563312\n",
      "min      5020.858560  5.117778e+03    1061.575051  4.755127e+03   2282.017329\n",
      "25%     53395.735504  5.521578e+04   10243.492212  5.066691e+04   9828.579455\n",
      "50%    115386.469353  1.155887e+05   24232.424418  1.098717e+05  24725.094076\n",
      "75%    177086.762849  1.788910e+05   38216.914804  1.699926e+05  25603.269906\n",
      "max    901478.152317  4.543928e+07  406774.540440  1.724469e+06  25987.584611\n"
     ]
    }
   ],
   "source": [
    "summary_1 = p2p_isp.describe()\n",
    "print(summary_1)"
   ]
  },
  {
   "cell_type": "code",
   "execution_count": 12,
   "metadata": {},
   "outputs": [
    {
     "data": {
      "text/plain": [
       "Text(0,0.5,'p2p by isp')"
      ]
     },
     "execution_count": 12,
     "metadata": {},
     "output_type": "execute_result"
    },
    {
     "data": {
      "text/plain": [
       "<Figure size 432x288 with 0 Axes>"
      ]
     },
     "metadata": {},
     "output_type": "display_data"
    },
    {
     "data": {
      "image/png": "[encoded data removed]",
      "text/plain": [
       "<Figure size 432x288 with 1 Axes>"
      ]
     },
     "metadata": {},
     "output_type": "display_data"
    }
   ],
   "source": [
    "import matplotlib.pyplot as plt\n",
    "import numpy as np\n",
    "from matplotlib import style\n",
    "style.use(\"ggplot\")\n",
    "plt.figure()\n",
    "p2p_isp.plot()\n",
    "plt.ylabel('p2p by isp')"
   ]
  },
  {
   "cell_type": "code",
   "execution_count": 13,
   "metadata": {},
   "outputs": [
    {
     "data": {
      "text/html": [
       "<div>\n",
       "<style scoped>\n",
       "    .dataframe tbody tr th:only-of-type {\n",
       "        vertical-align: middle;\n",
       "    }\n",
       "\n",
       "    .dataframe tbody tr th {\n",
       "        vertical-align: top;\n",
       "    }\n",
       "\n",
       "    .dataframe thead th {\n",
       "        text-align: right;\n",
       "    }\n",
       "</style>\n",
       "<table border=\"1\" class=\"dataframe\">\n",
       "  <thead>\n",
       "    <tr style=\"text-align: right;\">\n",
       "      <th>isp</th>\n",
       "      <th>Arange</th>\n",
       "      <th>BTP</th>\n",
       "      <th>Datch Telecam</th>\n",
       "      <th>Fro</th>\n",
       "      <th>Olga</th>\n",
       "    </tr>\n",
       "    <tr>\n",
       "      <th>stream</th>\n",
       "      <th></th>\n",
       "      <th></th>\n",
       "      <th></th>\n",
       "      <th></th>\n",
       "      <th></th>\n",
       "    </tr>\n",
       "  </thead>\n",
       "  <tbody>\n",
       "    <tr>\n",
       "      <th>1</th>\n",
       "      <td>1.228692e+05</td>\n",
       "      <td>1.210573e+05</td>\n",
       "      <td>2.615829e+05</td>\n",
       "      <td>1.300653e+05</td>\n",
       "      <td>2.736836e+05</td>\n",
       "    </tr>\n",
       "    <tr>\n",
       "      <th>2</th>\n",
       "      <td>8.465021e+04</td>\n",
       "      <td>8.445841e+04</td>\n",
       "      <td>1.746999e+05</td>\n",
       "      <td>9.013429e+04</td>\n",
       "      <td>1.747276e+05</td>\n",
       "    </tr>\n",
       "    <tr>\n",
       "      <th>3</th>\n",
       "      <td>1.877542e+05</td>\n",
       "      <td>1.879079e+05</td>\n",
       "      <td>1.975300e+05</td>\n",
       "      <td>1.881942e+05</td>\n",
       "      <td>1.972966e+05</td>\n",
       "    </tr>\n",
       "    <tr>\n",
       "      <th>4</th>\n",
       "      <td>9.911578e+07</td>\n",
       "      <td>5.451257e+07</td>\n",
       "      <td>9.956437e+07</td>\n",
       "      <td>9.826945e+07</td>\n",
       "      <td>1.000974e+08</td>\n",
       "    </tr>\n",
       "    <tr>\n",
       "      <th>5</th>\n",
       "      <td>9.057144e+04</td>\n",
       "      <td>9.104454e+04</td>\n",
       "      <td>1.781693e+05</td>\n",
       "      <td>9.521597e+04</td>\n",
       "      <td>1.765766e+05</td>\n",
       "    </tr>\n",
       "  </tbody>\n",
       "</table>\n",
       "</div>"
      ],
      "text/plain": [
       "isp           Arange           BTP  Datch Telecam           Fro          Olga\n",
       "stream                                                                       \n",
       "1       1.228692e+05  1.210573e+05   2.615829e+05  1.300653e+05  2.736836e+05\n",
       "2       8.465021e+04  8.445841e+04   1.746999e+05  9.013429e+04  1.747276e+05\n",
       "3       1.877542e+05  1.879079e+05   1.975300e+05  1.881942e+05  1.972966e+05\n",
       "4       9.911578e+07  5.451257e+07   9.956437e+07  9.826945e+07  1.000974e+08\n",
       "5       9.057144e+04  9.104454e+04   1.781693e+05  9.521597e+04  1.765766e+05"
      ]
     },
     "execution_count": 13,
     "metadata": {},
     "output_type": "execute_result"
    }
   ],
   "source": [
    "cdn_isp = df.pivot_table(index=['stream'],columns=['isp'],values='cdn')\n",
    "cdn_isp.head()"
   ]
  },
  {
   "cell_type": "code",
   "execution_count": 15,
   "metadata": {},
   "outputs": [
    {
     "data": {
      "text/plain": [
       "Text(0,0.5,'cdn by isp')"
      ]
     },
     "execution_count": 15,
     "metadata": {},
     "output_type": "execute_result"
    },
    {
     "data": {
      "text/plain": [
       "<Figure size 432x288 with 0 Axes>"
      ]
     },
     "metadata": {},
     "output_type": "display_data"
    },
    {
     "data": {
      "image/png": "[encoded data removed]",
      "text/plain": [
       "<Figure size 432x288 with 1 Axes>"
      ]
     },
     "metadata": {},
     "output_type": "display_data"
    }
   ],
   "source": [
    "import matplotlib.pyplot as plt\n",
    "import numpy as np\n",
    "from matplotlib import style\n",
    "style.use(\"ggplot\")\n",
    "plt.figure()\n",
    "cdn_isp.plot()\n",
    "plt.ylabel('cdn by isp')"
   ]
  },
  {
   "cell_type": "code",
   "execution_count": 21,
   "metadata": {},
   "outputs": [
    {
     "data": {
      "text/plain": [
       "0    195910.840977\n",
       "1    186711.522041\n",
       "2    189428.293434\n",
       "3         0.000000\n",
       "4    207246.640473\n",
       "Name: p2p, dtype: float64"
      ]
     },
     "execution_count": 21,
     "metadata": {},
     "output_type": "execute_result"
    }
   ],
   "source": [
    "df_p2p = df['p2p']\n",
    "df_p2p.head()"
   ]
  },
  {
   "cell_type": "code",
   "execution_count": 22,
   "metadata": {},
   "outputs": [
    {
     "data": {
      "text/plain": [
       "stream\n",
       "1    1.228692e+05\n",
       "2    8.465021e+04\n",
       "3    1.877542e+05\n",
       "4    9.911578e+07\n",
       "5    9.057144e+04\n",
       "Name: Arange, dtype: float64"
      ]
     },
     "execution_count": 22,
     "metadata": {},
     "output_type": "execute_result"
    }
   ],
   "source": [
    "cdn_isp_Arange = cdn_isp['Arange']\n",
    "cdn_isp_Arange.head()"
   ]
  },
  {
   "cell_type": "code",
   "execution_count": 23,
   "metadata": {},
   "outputs": [
    {
     "data": {
      "text/html": [
       "<div>\n",
       "<style scoped>\n",
       "    .dataframe tbody tr th:only-of-type {\n",
       "        vertical-align: middle;\n",
       "    }\n",
       "\n",
       "    .dataframe tbody tr th {\n",
       "        vertical-align: top;\n",
       "    }\n",
       "\n",
       "    .dataframe thead th {\n",
       "        text-align: right;\n",
       "    }\n",
       "</style>\n",
       "<table border=\"1\" class=\"dataframe\">\n",
       "  <thead>\n",
       "    <tr style=\"text-align: right;\">\n",
       "      <th></th>\n",
       "      <th>0</th>\n",
       "    </tr>\n",
       "    <tr>\n",
       "      <th>isp</th>\n",
       "      <th></th>\n",
       "    </tr>\n",
       "  </thead>\n",
       "  <tbody>\n",
       "    <tr>\n",
       "      <th>Arange</th>\n",
       "      <td>1.000000</td>\n",
       "    </tr>\n",
       "    <tr>\n",
       "      <th>BTP</th>\n",
       "      <td>0.999993</td>\n",
       "    </tr>\n",
       "    <tr>\n",
       "      <th>Datch Telecam</th>\n",
       "      <td>0.999999</td>\n",
       "    </tr>\n",
       "    <tr>\n",
       "      <th>Fro</th>\n",
       "      <td>1.000000</td>\n",
       "    </tr>\n",
       "    <tr>\n",
       "      <th>Olga</th>\n",
       "      <td>0.999999</td>\n",
       "    </tr>\n",
       "  </tbody>\n",
       "</table>\n",
       "</div>"
      ],
      "text/plain": [
       "                      0\n",
       "isp                    \n",
       "Arange         1.000000\n",
       "BTP            0.999993\n",
       "Datch Telecam  0.999999\n",
       "Fro            1.000000\n",
       "Olga           0.999999"
      ]
     },
     "execution_count": 23,
     "metadata": {},
     "output_type": "execute_result"
    }
   ],
   "source": [
    "cdn_isp_corr = cdn_isp.corrwith(cdn_isp_Arange)\n",
    "cdn_isp_corr = cdn_isp_corr.dropna()\n",
    "cdn_isp_corr_df = pd.DataFrame(cdn_isp_corr)\n",
    "cdn_isp_corr_df.head(10)"
   ]
  },
  {
   "cell_type": "code",
   "execution_count": 25,
   "metadata": {},
   "outputs": [
    {
     "data": {
      "text/html": [
       "<div>\n",
       "<style scoped>\n",
       "    .dataframe tbody tr th:only-of-type {\n",
       "        vertical-align: middle;\n",
       "    }\n",
       "\n",
       "    .dataframe tbody tr th {\n",
       "        vertical-align: top;\n",
       "    }\n",
       "\n",
       "    .dataframe thead th {\n",
       "        text-align: right;\n",
       "    }\n",
       "</style>\n",
       "<table border=\"1\" class=\"dataframe\">\n",
       "  <thead>\n",
       "    <tr style=\"text-align: right;\">\n",
       "      <th>browser</th>\n",
       "      <th>EarthWolf</th>\n",
       "      <th>Iron</th>\n",
       "      <th>Swamp</th>\n",
       "      <th>Vectrice</th>\n",
       "    </tr>\n",
       "    <tr>\n",
       "      <th>stream</th>\n",
       "      <th></th>\n",
       "      <th></th>\n",
       "      <th></th>\n",
       "      <th></th>\n",
       "    </tr>\n",
       "  </thead>\n",
       "  <tbody>\n",
       "    <tr>\n",
       "      <th>1</th>\n",
       "      <td>1.129346e+05</td>\n",
       "      <td>1.312049e+05</td>\n",
       "      <td>2.052807e+05</td>\n",
       "      <td>2.984034e+05</td>\n",
       "    </tr>\n",
       "    <tr>\n",
       "      <th>2</th>\n",
       "      <td>8.114941e+04</td>\n",
       "      <td>9.321571e+04</td>\n",
       "      <td>1.343464e+05</td>\n",
       "      <td>1.990944e+05</td>\n",
       "    </tr>\n",
       "    <tr>\n",
       "      <th>3</th>\n",
       "      <td>1.872957e+05</td>\n",
       "      <td>1.888087e+05</td>\n",
       "      <td>1.926261e+05</td>\n",
       "      <td>1.998348e+05</td>\n",
       "    </tr>\n",
       "    <tr>\n",
       "      <th>4</th>\n",
       "      <td>9.433457e+07</td>\n",
       "      <td>9.480478e+07</td>\n",
       "      <td>9.661411e+07</td>\n",
       "      <td>1.001363e+08</td>\n",
       "    </tr>\n",
       "    <tr>\n",
       "      <th>5</th>\n",
       "      <td>1.464239e+05</td>\n",
       "      <td>1.516763e+05</td>\n",
       "      <td>1.713636e+05</td>\n",
       "      <td>1.997867e+05</td>\n",
       "    </tr>\n",
       "  </tbody>\n",
       "</table>\n",
       "</div>"
      ],
      "text/plain": [
       "browser     EarthWolf          Iron         Swamp      Vectrice\n",
       "stream                                                         \n",
       "1        1.129346e+05  1.312049e+05  2.052807e+05  2.984034e+05\n",
       "2        8.114941e+04  9.321571e+04  1.343464e+05  1.990944e+05\n",
       "3        1.872957e+05  1.888087e+05  1.926261e+05  1.998348e+05\n",
       "4        9.433457e+07  9.480478e+07  9.661411e+07  1.001363e+08\n",
       "5        1.464239e+05  1.516763e+05  1.713636e+05  1.997867e+05"
      ]
     },
     "execution_count": 25,
     "metadata": {},
     "output_type": "execute_result"
    }
   ],
   "source": [
    "df.head()\n",
    "cdn_browser = df.pivot_table(index=['stream'],columns=['browser'],values='cdn')\n",
    "cdn_browser.head()"
   ]
  },
  {
   "cell_type": "code",
   "execution_count": 33,
   "metadata": {},
   "outputs": [
    {
     "data": {
      "text/plain": [
       "browser\n",
       "EarthWolf    1.793676e+07\n",
       "Iron         1.833714e+07\n",
       "Swamp        2.002014e+07\n",
       "Vectrice     2.234744e+07\n",
       "dtype: float64"
      ]
     },
     "execution_count": 33,
     "metadata": {},
     "output_type": "execute_result"
    }
   ],
   "source": [
    "import numpy as np\n",
    "cdn_browser_mean = np.mean(cdn_browser)\n",
    "cdn_browser_mean.head()"
   ]
  },
  {
   "cell_type": "code",
   "execution_count": 34,
   "metadata": {},
   "outputs": [
    {
     "data": {
      "text/html": [
       "<div>\n",
       "<style scoped>\n",
       "    .dataframe tbody tr th:only-of-type {\n",
       "        vertical-align: middle;\n",
       "    }\n",
       "\n",
       "    .dataframe tbody tr th {\n",
       "        vertical-align: top;\n",
       "    }\n",
       "\n",
       "    .dataframe thead th {\n",
       "        text-align: right;\n",
       "    }\n",
       "</style>\n",
       "<table border=\"1\" class=\"dataframe\">\n",
       "  <thead>\n",
       "    <tr style=\"text-align: right;\">\n",
       "      <th>browser</th>\n",
       "      <th>EarthWolf</th>\n",
       "      <th>Iron</th>\n",
       "      <th>Swamp</th>\n",
       "      <th>Vectrice</th>\n",
       "    </tr>\n",
       "    <tr>\n",
       "      <th>stream</th>\n",
       "      <th></th>\n",
       "      <th></th>\n",
       "      <th></th>\n",
       "      <th></th>\n",
       "    </tr>\n",
       "  </thead>\n",
       "  <tbody>\n",
       "    <tr>\n",
       "      <th>1</th>\n",
       "      <td>1.870094e+05</td>\n",
       "      <td>1.688349e+05</td>\n",
       "      <td>9.433037e+04</td>\n",
       "      <td>1719.720925</td>\n",
       "    </tr>\n",
       "    <tr>\n",
       "      <th>2</th>\n",
       "      <td>1.188723e+05</td>\n",
       "      <td>1.068291e+05</td>\n",
       "      <td>6.556713e+04</td>\n",
       "      <td>835.546986</td>\n",
       "    </tr>\n",
       "    <tr>\n",
       "      <th>3</th>\n",
       "      <td>1.268233e+04</td>\n",
       "      <td>1.121782e+04</td>\n",
       "      <td>7.333461e+03</td>\n",
       "      <td>79.875903</td>\n",
       "    </tr>\n",
       "    <tr>\n",
       "      <th>4</th>\n",
       "      <td>5.670997e+06</td>\n",
       "      <td>5.178956e+06</td>\n",
       "      <td>3.370550e+06</td>\n",
       "      <td>71663.268849</td>\n",
       "    </tr>\n",
       "    <tr>\n",
       "      <th>5</th>\n",
       "      <td>5.357145e+04</td>\n",
       "      <td>4.833785e+04</td>\n",
       "      <td>2.900979e+04</td>\n",
       "      <td>116.571425</td>\n",
       "    </tr>\n",
       "  </tbody>\n",
       "</table>\n",
       "</div>"
      ],
      "text/plain": [
       "browser     EarthWolf          Iron         Swamp      Vectrice\n",
       "stream                                                         \n",
       "1        1.870094e+05  1.688349e+05  9.433037e+04   1719.720925\n",
       "2        1.188723e+05  1.068291e+05  6.556713e+04    835.546986\n",
       "3        1.268233e+04  1.121782e+04  7.333461e+03     79.875903\n",
       "4        5.670997e+06  5.178956e+06  3.370550e+06  71663.268849\n",
       "5        5.357145e+04  4.833785e+04  2.900979e+04    116.571425"
      ]
     },
     "execution_count": 34,
     "metadata": {},
     "output_type": "execute_result"
    }
   ],
   "source": [
    "\n",
    "p2p_browser = df.pivot_table(index=['stream'],columns=['browser'],values='p2p')\n",
    "p2p_browser.head()"
   ]
  },
  {
   "cell_type": "code",
   "execution_count": 35,
   "metadata": {},
   "outputs": [
    {
     "data": {
      "text/plain": [
       "browser\n",
       "EarthWolf    4.433096e+06\n",
       "Iron         4.026681e+06\n",
       "Swamp        2.321854e+06\n",
       "Vectrice     3.532363e+04\n",
       "dtype: float64"
      ]
     },
     "execution_count": 35,
     "metadata": {},
     "output_type": "execute_result"
    }
   ],
   "source": [
    "import numpy as np\n",
    "p2p_browser_mean = np.mean(p2p_browser)\n",
    "p2p_browser_mean.head()"
   ]
  },
  {
   "cell_type": "code",
   "execution_count": 43,
   "metadata": {},
   "outputs": [
    {
     "data": {
      "text/html": [
       "<div>\n",
       "<style scoped>\n",
       "    .dataframe tbody tr th:only-of-type {\n",
       "        vertical-align: middle;\n",
       "    }\n",
       "\n",
       "    .dataframe tbody tr th {\n",
       "        vertical-align: top;\n",
       "    }\n",
       "\n",
       "    .dataframe thead th {\n",
       "        text-align: right;\n",
       "    }\n",
       "</style>\n",
       "<table border=\"1\" class=\"dataframe\">\n",
       "  <thead>\n",
       "    <tr style=\"text-align: right;\">\n",
       "      <th></th>\n",
       "      <th>0</th>\n",
       "    </tr>\n",
       "    <tr>\n",
       "      <th>isp</th>\n",
       "      <th></th>\n",
       "    </tr>\n",
       "  </thead>\n",
       "  <tbody>\n",
       "    <tr>\n",
       "      <th>Arange</th>\n",
       "      <td>1.000000</td>\n",
       "    </tr>\n",
       "    <tr>\n",
       "      <th>BTP</th>\n",
       "      <td>0.999993</td>\n",
       "    </tr>\n",
       "    <tr>\n",
       "      <th>Datch Telecam</th>\n",
       "      <td>0.999999</td>\n",
       "    </tr>\n",
       "    <tr>\n",
       "      <th>Fro</th>\n",
       "      <td>1.000000</td>\n",
       "    </tr>\n",
       "    <tr>\n",
       "      <th>Olga</th>\n",
       "      <td>0.999999</td>\n",
       "    </tr>\n",
       "  </tbody>\n",
       "</table>\n",
       "</div>"
      ],
      "text/plain": [
       "                      0\n",
       "isp                    \n",
       "Arange         1.000000\n",
       "BTP            0.999993\n",
       "Datch Telecam  0.999999\n",
       "Fro            1.000000\n",
       "Olga           0.999999"
      ]
     },
     "execution_count": 43,
     "metadata": {},
     "output_type": "execute_result"
    }
   ],
   "source": [
    "cdn_isp_corr = cdn_isp.corrwith(cdn_isp_Arange)\n",
    "cdn_isp_corr = cdn_isp_corr.dropna()\n",
    "cdn_isp_corr_df = pd.DataFrame(cdn_isp_corr)\n",
    "cdn_isp_corr_df.head(10)"
   ]
  },
  {
   "cell_type": "code",
   "execution_count": 46,
   "metadata": {},
   "outputs": [
    {
     "data": {
      "text/plain": [
       "<matplotlib.collections.PathCollection at 0x1cbae444e48>"
      ]
     },
     "execution_count": 46,
     "metadata": {},
     "output_type": "execute_result"
    },
    {
     "data": {
      "image/png": "[encoded data removed]",
      "text/plain": [
       "<Figure size 432x288 with 1 Axes>"
      ]
     },
     "metadata": {},
     "output_type": "display_data"
    }
   ],
   "source": [
    "#Linear regression \n",
    "%matplotlib inline\n",
    "import numpy as np\n",
    "from pylab import *\n",
    "scatter(df['stream'], df['p2p'])\n"
   ]
  },
  {
   "cell_type": "code",
   "execution_count": null,
   "metadata": {},
   "outputs": [],
   "source": [
    "from scipy import stats\n",
    "\n",
    "slope, intercept, r_value, p_value, std_err = stats.linregress(df['stream'], df['p2p'])\n"
   ]
  },
  {
   "cell_type": "code",
   "execution_count": null,
   "metadata": {},
   "outputs": [],
   "source": [
    "print(r_value ** 2)"
   ]
  },
  {
   "cell_type": "code",
   "execution_count": null,
   "metadata": {},
   "outputs": [],
   "source": []
  }
 ],
 "metadata": {
  "kernelspec": {
   "display_name": "Python 3",
   "language": "python",
   "name": "python3"
  },
  "language_info": {
   "codemirror_mode": {
    "name": "ipython",
    "version": 3
   },
   "file_extension": ".py",
   "mimetype": "text/x-python",
   "name": "python",
   "nbconvert_exporter": "python",
   "pygments_lexer": "ipython3",
   "version": "3.6.5"
  }
 },
 "nbformat": 4,
 "nbformat_minor": 2
}
